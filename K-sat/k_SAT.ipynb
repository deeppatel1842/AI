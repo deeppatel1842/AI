{
  "nbformat": 4,
  "nbformat_minor": 0,
  "metadata": {
    "colab": {
      "name": "k-SAT.ipynb",
      "provenance": []
    },
    "kernelspec": {
      "name": "python3",
      "display_name": "Python 3"
    },
    "language_info": {
      "name": "python"
    }
  },
  "cells": [
    {
      "cell_type": "code",
      "metadata": {
        "id": "1egMaKtDDOH9"
      },
      "source": [
        "from string import ascii_lowercase\n",
        "import random\n",
        "from itertools import combinations"
      ],
      "execution_count": null,
      "outputs": []
    },
    {
      "cell_type": "code",
      "metadata": {
        "colab": {
          "base_uri": "https://localhost:8080/"
        },
        "id": "yYkmfEbNDXov",
        "outputId": "d95851e4-35c9-4b33-9d0c-b96b03a0304b"
      },
      "source": [
        "print(\"Enter the number of clauses \")\n",
        "m = int(input())\n",
        "print(\"Enter the accept values K \")\n",
        "k = int(input())\n",
        "print(\"Enter number of variables \")\n",
        "n = int(input())"
      ],
      "execution_count": null,
      "outputs": [
        {
          "output_type": "stream",
          "text": [
            "Enter the number of clauses \n",
            "2\n",
            "Enter the number of variables in a clause \n",
            "3\n",
            "Enter number of variables \n",
            "2\n"
          ],
          "name": "stdout"
        }
      ]
    },
    {
      "cell_type": "code",
      "metadata": {
        "id": "Fjx3FPM5HKrO"
      },
      "source": [
        "def Problemgenerated(m, k, n):\n",
        "    #lower Case +ve\n",
        "    positive_var = (list(ascii_lowercase))[:n]\n",
        "    negative_var = [c.upper() for c in positive_var]\n",
        "    variables = positive_var + negative_var\n",
        "    repe = 1 #how many problem you are genrerated\n",
        "    problems = []\n",
        "     \n",
        "     \n",
        "    i = 0\n",
        "\n",
        "    while i<repe:\n",
        "        c = random.sample(allCombination, m)\n",
        "        if c not in problems:\n",
        "            i += 1\n",
        "            problems.append(list(c))\n",
        "            \n",
        "    problems_new = []\n",
        "    for c in problems:\n",
        "        temp = []\n",
        "        for sub in c:\n",
        "            temp.append(list(sub))\n",
        "        problems_new.append(temp)\n",
        "    return problems"
      ],
      "execution_count": null,
      "outputs": []
    },
    {
      "cell_type": "code",
      "metadata": {
        "id": "jzft222zHRjl"
      },
      "source": [
        "problems = Problemgenerated(m, k, n)"
      ],
      "execution_count": null,
      "outputs": []
    },
    {
      "cell_type": "code",
      "metadata": {
        "colab": {
          "base_uri": "https://localhost:8080/"
        },
        "id": "40jHj_jKHWNw",
        "outputId": "f8a298a3-438d-4342-e44d-a44946f9da90"
      },
      "source": [
        "for i in range(len(problems)):\n",
        "    print(problems[i])"
      ],
      "execution_count": null,
      "outputs": [
        {
          "output_type": "stream",
          "text": [
            "[('a', 'b', 'B'), ('a', 'A', 'B')]\n"
          ],
          "name": "stdout"
        }
      ]
    }
  ]
}