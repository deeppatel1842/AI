{
  "nbformat": 4,
  "nbformat_minor": 0,
  "metadata": {
    "colab": {
      "name": "AI lab 9.ipynb",
      "provenance": [],
      "collapsed_sections": []
    },
    "kernelspec": {
      "name": "python3",
      "display_name": "Python 3"
    },
    "language_info": {
      "name": "python"
    }
  },
  "cells": [
    {
      "cell_type": "code",
      "metadata": {
        "id": "0F1yLb0uWNZk"
      },
      "source": [
        "import random\n",
        "# --- Bandit ---\n",
        "class Bandit(object):\n",
        "  def __init__(self, N):\n",
        "    # N = number of arms\n",
        "    self.N = N\n",
        "  def actions(self):\n",
        "    result = []\n",
        "    for i in range(0,self.N):\n",
        "      result.append(i)\n",
        "    return result\n",
        "  def rewardA(self, action):\n",
        "    p =[.1, .2]\n",
        "    rand=random.random()\n",
        "    if rand < p[action]:\n",
        "      return 1\n",
        "    else:\n",
        "      return 0\n",
        "  def rewardB(self, action):\n",
        "    p =[.8, .9]\n",
        "    rand=random.random()\n",
        "    if rand < p[action]:\n",
        "      return 1\n",
        "    else:\n",
        "      return 0"
      ],
      "execution_count": null,
      "outputs": []
    },
    {
      "cell_type": "code",
      "metadata": {
        "id": "nm41aXndWW0X"
      },
      "source": [
        "myBandit = Bandit(N=2)"
      ],
      "execution_count": null,
      "outputs": []
    },
    {
      "cell_type": "code",
      "metadata": {
        "colab": {
          "base_uri": "https://localhost:8080/"
        },
        "id": "ACmWmQL6iNqH",
        "outputId": "6e51cda7-9693-42c5-836e-eae7370a6c28"
      },
      "source": [
        "myBandit.actions()"
      ],
      "execution_count": null,
      "outputs": [
        {
          "output_type": "execute_result",
          "data": {
            "text/plain": [
              "[0, 1]"
            ]
          },
          "metadata": {
            "tags": []
          },
          "execution_count": 3
        }
      ]
    },
    {
      "cell_type": "code",
      "metadata": {
        "id": "6uj_qw6_Y0_e"
      },
      "source": [
        "def eGreedy(myBandit, epsilon, max_iteration):\n",
        "  # Initialization \n",
        "  Q = [0]*myBandit.N \n",
        "  count = [0]*myBandit.N\n",
        "  epsilon = epsilon\n",
        "  r = 0\n",
        "  R = []\n",
        "  R_avg = [0]*1\n",
        "  max_iter = max_iteration\n",
        "  # Incremental Implementation\n",
        "  for iter in range(1,max_iter):\n",
        "    if random.random() > epsilon:\n",
        "      action = Q.index(max(Q)) # Exploit/ Greed\n",
        "    else:\n",
        "      action = random.choice(myBandit.actions()) # Explore\n",
        "    r = myBandit.rewardB(action)\n",
        "    R.append(r)\n",
        "    count[action] = count[action]+1\n",
        "    Q[action] = Q[action]+(r - Q[action])/count[action]\n",
        "    R_avg.append(R_avg[iter-1] + (r-R_avg[iter-1])/iter)\n",
        "\n",
        "  return Q, R_avg, R"
      ],
      "execution_count": null,
      "outputs": []
    },
    {
      "cell_type": "code",
      "metadata": {
        "id": "9RamZDXVZVTd"
      },
      "source": [
        "Q,R_avg,R = eGreedy(myBandit, 0.1, 1000)"
      ],
      "execution_count": null,
      "outputs": []
    },
    {
      "cell_type": "code",
      "metadata": {
        "colab": {
          "base_uri": "https://localhost:8080/"
        },
        "id": "O_Ww0TTeZeA4",
        "outputId": "8aed4ea4-185b-4efe-b2c3-95e5e61e388b"
      },
      "source": [
        "Q"
      ],
      "execution_count": null,
      "outputs": [
        {
          "output_type": "execute_result",
          "data": {
            "text/plain": [
              "[0.818181818181818, 0.8971061093247585]"
            ]
          },
          "metadata": {
            "tags": []
          },
          "execution_count": 30
        }
      ]
    },
    {
      "cell_type": "code",
      "metadata": {
        "colab": {
          "base_uri": "https://localhost:8080/",
          "height": 282
        },
        "id": "_TPjpEx1Zimf",
        "outputId": "af39098e-9195-4830-b3ab-12c390ee136f"
      },
      "source": [
        "import matplotlib.pyplot as plt\n",
        "plt.plot(R_avg)"
      ],
      "execution_count": null,
      "outputs": [
        {
          "output_type": "execute_result",
          "data": {
            "text/plain": [
              "[<matplotlib.lines.Line2D at 0x7f62f8709c90>]"
            ]
          },
          "metadata": {
            "tags": []
          },
          "execution_count": 31
        },
        {
          "output_type": "display_data",
          "data": {
            "image/png": "[encoded data removed]",
            "text/plain": [
              "<Figure size 432x288 with 1 Axes>"
            ]
          },
          "metadata": {
            "tags": [],
            "needs_background": "light"
          }
        }
      ]
    }
  ]
}