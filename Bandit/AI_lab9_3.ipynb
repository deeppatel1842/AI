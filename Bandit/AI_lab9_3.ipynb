{
  "nbformat": 4,
  "nbformat_minor": 0,
  "metadata": {
    "colab": {
      "name": "AI lab9_3.ipynb",
      "provenance": []
    },
    "kernelspec": {
      "name": "python3",
      "display_name": "Python 3"
    },
    "language_info": {
      "name": "python"
    }
  },
  "cells": [
    {
      "cell_type": "code",
      "metadata": {
        "id": "rsc4fVuQTd9A"
      },
      "source": [
        "import random\n",
        "# --- Bandit ---\n",
        "class Bandit(object):\n",
        "  def __init__(self, N):\n",
        "    # N = number of arms\n",
        "    self.N = N\n",
        "    expRewards = []\n",
        "    for i in range(0,self.N):\n",
        "      n = random.randint(1,1*N)\n",
        "      expRewards.append(n)\n",
        "    self.expRewards = expRewards\n",
        "  def actions(self):\n",
        "    result = []\n",
        "    for i in range(0,self.N):\n",
        "      result.append(i)\n",
        "    return result\n",
        "  def reward(self, action):\n",
        "    result = []\n",
        "    n = random.gauss(0,0.01)\n",
        "    result = self.expRewards[action] + n\n",
        "    return result"
      ],
      "execution_count": null,
      "outputs": []
    },
    {
      "cell_type": "code",
      "metadata": {
        "colab": {
          "base_uri": "https://localhost:8080/"
        },
        "id": "U-FvsEAYTwDN",
        "outputId": "98fa6db8-648b-487f-b22f-9fab802c7b36"
      },
      "source": [
        "myBandit=Bandit(N=10)\n",
        "myBandit.expRewards"
      ],
      "execution_count": null,
      "outputs": [
        {
          "output_type": "execute_result",
          "data": {
            "text/plain": [
              "[7, 2, 8, 4, 4, 1, 6, 4, 10, 3]"
            ]
          },
          "metadata": {
            "tags": []
          },
          "execution_count": 31
        }
      ]
    },
    {
      "cell_type": "code",
      "metadata": {
        "id": "pmBWtNgkTybG"
      },
      "source": [
        "def eGreedy(myBandit, epsilon, max_iteration):\n",
        "  # Initialization \n",
        "  Q = [0]*myBandit.N \n",
        "  count = [0]*myBandit.N\n",
        "  epsilon = epsilon\n",
        "  r = 0\n",
        "  R = []\n",
        "  alpha=0.8\n",
        "  R_avg = [0]*1\n",
        "  max_iter = max_iteration\n",
        "  # Incremental Implementation\n",
        "  for iter in range(1,max_iter):\n",
        "    if random.random() > epsilon:\n",
        "      action = Q.index(max(Q)) # Exploit/ Greed\n",
        "    else:\n",
        "      action = random.choice(myBandit.actions()) # Explore\n",
        "    r = myBandit.reward(action)\n",
        "    R.append(r)\n",
        "    count[action] = count[action]+1\n",
        "    Q[action] = Q[action]+(r - Q[action])*alpha\n",
        "    R_avg.append(R_avg[iter-1] + (r-R_avg[iter-1])/iter)\n",
        "\n",
        "  return Q, R_avg, R"
      ],
      "execution_count": null,
      "outputs": []
    },
    {
      "cell_type": "code",
      "metadata": {
        "id": "lRGOLca_T1TH"
      },
      "source": [
        "Q,R_avg,R = eGreedy(myBandit, 0.1, 10000)"
      ],
      "execution_count": null,
      "outputs": []
    },
    {
      "cell_type": "code",
      "metadata": {
        "colab": {
          "base_uri": "https://localhost:8080/"
        },
        "id": "4LrzDFJSACoI",
        "outputId": "62ef680e-9e56-4f4b-afb4-ac716c57743c"
      },
      "source": [
        "Q"
      ],
      "execution_count": null,
      "outputs": [
        {
          "output_type": "execute_result",
          "data": {
            "text/plain": [
              "[6.984861142006222,\n",
              " 1.9833712190704844,\n",
              " 8.000822876244694,\n",
              " 3.9835816957039745,\n",
              " 4.00234213822644,\n",
              " 1.0099746625157586,\n",
              " 6.005334942756338,\n",
              " 4.005482589250902,\n",
              " 9.992869193957125,\n",
              " 3.01378815861186]"
            ]
          },
          "metadata": {
            "tags": []
          },
          "execution_count": 40
        }
      ]
    },
    {
      "cell_type": "code",
      "metadata": {
        "colab": {
          "base_uri": "https://localhost:8080/",
          "height": 282
        },
        "id": "kpZLDM8CT3lf",
        "outputId": "5dac1dd0-8c1e-45de-8246-6875a10d835d"
      },
      "source": [
        "import matplotlib.pyplot as plt\n",
        "plt.plot(R_avg)\n",
        "#plt.plot(R) "
      ],
      "execution_count": null,
      "outputs": [
        {
          "output_type": "execute_result",
          "data": {
            "text/plain": [
              "[<matplotlib.lines.Line2D at 0x7fd019f21310>]"
            ]
          },
          "metadata": {
            "tags": []
          },
          "execution_count": 43
        },
        {
          "output_type": "display_data",
          "data": {
            "image/png": "[encoded data removed]",
            "text/plain": [
              "<Figure size 432x288 with 1 Axes>"
            ]
          },
          "metadata": {
            "tags": [],
            "needs_background": "light"
          }
        }
      ]
    }
  ]
}