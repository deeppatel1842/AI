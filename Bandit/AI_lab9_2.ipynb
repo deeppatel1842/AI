{
  "nbformat": 4,
  "nbformat_minor": 0,
  "metadata": {
    "colab": {
      "name": "AI lab9_2.ipynb",
      "provenance": [],
      "collapsed_sections": []
    },
    "kernelspec": {
      "name": "python3",
      "display_name": "Python 3"
    },
    "language_info": {
      "name": "python"
    }
  },
  "cells": [
    {
      "cell_type": "code",
      "metadata": {
        "id": "Bwo8lx3qKj0L"
      },
      "source": [
        "import random\n",
        "# --- Bandit ---\n",
        "class Bandit(object):\n",
        "  def __init__(self, N):\n",
        "    # N = number of arms\n",
        "    self.N = N\n",
        "    expRewards = []\n",
        "    for i in range(0,self.N):\n",
        "      n = random.randint(1,1*N)\n",
        "      expRewards.append(n)\n",
        "    self.expRewards = expRewards\n",
        "  def actions(self):\n",
        "    result = []\n",
        "    for i in range(0,self.N):\n",
        "      result.append(i)\n",
        "    return result\n",
        "  def reward(self, action):\n",
        "    result = []\n",
        "    n = random.gauss(0,0.01)\n",
        "    result = self.expRewards[action] + n\n",
        "    return result"
      ],
      "execution_count": null,
      "outputs": []
    },
    {
      "cell_type": "code",
      "metadata": {
        "id": "TzoiOtP3RSJu"
      },
      "source": [
        "myBandit=Bandit(N=10)"
      ],
      "execution_count": null,
      "outputs": []
    },
    {
      "cell_type": "code",
      "metadata": {
        "id": "WJSLKGSMMLH9"
      },
      "source": [
        "def eGreedy(myBandit, epsilon, max_iteration):\n",
        "  # Initialization \n",
        "  Q = [0]*myBandit.N \n",
        "  count = [0]*myBandit.N\n",
        "  epsilon = epsilon\n",
        "  r = 0\n",
        "  R = []\n",
        "  R_avg = [0]*1\n",
        "  max_iter = max_iteration\n",
        "  # Incremental Implementation\n",
        "  for iter in range(1,max_iter):\n",
        "    if random.random() > epsilon:\n",
        "      action = Q.index(max(Q)) # Exploit/ Greed\n",
        "    else:\n",
        "      action = random.choice(myBandit.actions()) # Explore\n",
        "    r = myBandit.reward(action)\n",
        "    count[action] = count[action]+1\n",
        "    Q[action] = Q[action]+(r - Q[action])/count[action]\n",
        "    R_avg.append(R_avg[iter-1] + (r-R_avg[iter-1])/iter)\n",
        "\n",
        "  return Q, R_avg, R"
      ],
      "execution_count": null,
      "outputs": []
    },
    {
      "cell_type": "code",
      "metadata": {
        "id": "l-VRVywTMqF9"
      },
      "source": [
        "Q,R_avg,R = eGreedy(myBandit, 0.1, 1000)"
      ],
      "execution_count": null,
      "outputs": []
    },
    {
      "cell_type": "code",
      "metadata": {
        "id": "rMQZe1f9YBTu",
        "colab": {
          "base_uri": "https://localhost:8080/"
        },
        "outputId": "72d689d0-ec9c-4df1-fbf1-0fa14e424d83"
      },
      "source": [
        "Q"
      ],
      "execution_count": null,
      "outputs": [
        {
          "output_type": "execute_result",
          "data": {
            "text/plain": [
              "[10.000218971014698,\n",
              " 2.998264761767702,\n",
              " 5.002001054859172,\n",
              " 8.000295851686557,\n",
              " 2.9983575398656135,\n",
              " 8.000425920669729,\n",
              " 9.003763041630652,\n",
              " 5.0024194728900895,\n",
              " 0.9965550194608676,\n",
              " 4.998605319702118]"
            ]
          },
          "metadata": {
            "tags": []
          },
          "execution_count": 72
        }
      ]
    },
    {
      "cell_type": "code",
      "metadata": {
        "colab": {
          "base_uri": "https://localhost:8080/",
          "height": 282
        },
        "id": "YCICDyxBM-fv",
        "outputId": "e9cc0738-244f-4dd0-c692-061c1eafd747"
      },
      "source": [
        "import matplotlib.pyplot as plt\n",
        "plt.plot(R_avg)\n"
      ],
      "execution_count": null,
      "outputs": [
        {
          "output_type": "execute_result",
          "data": {
            "text/plain": [
              "[<matplotlib.lines.Line2D at 0x7fe9b85fbc50>]"
            ]
          },
          "metadata": {
            "tags": []
          },
          "execution_count": 73
        },
        {
          "output_type": "display_data",
          "data": {
            "image/png": "[encoded data removed]",
            "text/plain": [
              "<Figure size 432x288 with 1 Axes>"
            ]
          },
          "metadata": {
            "tags": [],
            "needs_background": "light"
          }
        }
      ]
    }
  ]
}